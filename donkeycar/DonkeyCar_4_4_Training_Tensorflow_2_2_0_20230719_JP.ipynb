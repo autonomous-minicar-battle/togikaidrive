{
  "nbformat": 4,
  "nbformat_minor": 0,
  "metadata": {
    "colab": {
      "provenance": []
    },
    "kernelspec": {
      "name": "python3",
      "display_name": "Python 3"
    },
    "accelerator": "GPU"
  },
  "cells": [
    {
      "cell_type": "markdown",
      "metadata": {
        "id": "BlmQIFSLZDdc"
      },
      "source": [
        "# DonkeyCar 4.4 Training\n",
        "\n",
        "Training DonkeyCar on GPU Instances in Google Colab\n",
        "- Version 20230719(2023年7月19日)\n",
        "- DonkeyCar version 4.4\n",
        "- Tensorflow 2.2.0\n",
        "- CUDA 10.1\n",
        "\n",
        "## 概要\n",
        "Google Colabを使用し、Donkey Carの学習を行います\n",
        "\n",
        "上からコードをを実行することで、以下のことができます\n",
        "- Google Colabの環境設定\n",
        "- 学習\n",
        "- 学習結果の取得  \n",
        "\n",
        "## 更新履歴\n",
        "20230719\n",
        "- DonkeyCar 4.4\n",
        "- CUDA 10.1\n",
        "- Tensorflow 2.2.0\n"
      ]
    },
    {
      "cell_type": "markdown",
      "source": [
        "# ColabのOSを確認します"
      ],
      "metadata": {
        "id": "5lkbBw-WY7W-"
      }
    },
    {
      "cell_type": "code",
      "source": [
        "!cat /etc/os-release"
      ],
      "metadata": {
        "id": "94oldBXkY_8w"
      },
      "execution_count": null,
      "outputs": []
    },
    {
      "cell_type": "markdown",
      "source": [
        "# 既存CUDAをアンインストール"
      ],
      "metadata": {
        "id": "dyrPmykY7h5j"
      }
    },
    {
      "cell_type": "code",
      "source": [
        "!apt --purge remove \"cublas*\" \"cuda*\""
      ],
      "metadata": {
        "id": "mMTIl9vH7gyE"
      },
      "execution_count": null,
      "outputs": []
    },
    {
      "cell_type": "markdown",
      "source": [
        "## CUDA-10.1リポジトリ追加"
      ],
      "metadata": {
        "id": "hrC_0P3bUEo9"
      }
    },
    {
      "cell_type": "code",
      "source": [
        "!apt-key adv --fetch-keys http://developer.download.nvidia.com/compute/machine-learning/repos/ubuntu1804/x86_64/7fa2af80.pub\n",
        "!wget https://developer.download.nvidia.com/compute/cuda/repos/ubuntu1804/x86_64/cuda-keyring_1.1-1_all.deb\n",
        "!dpkg -i cuda-keyring_1.1-1_all.deb"
      ],
      "metadata": {
        "id": "xbhiMEoW8qEz"
      },
      "execution_count": null,
      "outputs": []
    },
    {
      "cell_type": "markdown",
      "source": [
        "## CUDA-10.1インストール\n",
        "10分くらい時間がかかります。"
      ],
      "metadata": {
        "id": "wbiolyqiIcyG"
      }
    },
    {
      "cell_type": "code",
      "source": [
        "!apt-get update\n",
        "!apt-get install -y cuda-10.1"
      ],
      "metadata": {
        "id": "8vNRGYDtDaai"
      },
      "execution_count": null,
      "outputs": []
    },
    {
      "cell_type": "markdown",
      "source": [
        "## CuDNN-7.6.5インストール"
      ],
      "metadata": {
        "id": "dxCAiBDjGXBp"
      }
    },
    {
      "cell_type": "code",
      "source": [
        "!wget https://developer.download.nvidia.com/compute/machine-learning/repos/ubuntu1804/x86_64/libcudnn7_7.6.5.32-1+cuda10.1_amd64.deb\n",
        "!wget https://developer.download.nvidia.com/compute/machine-learning/repos/ubuntu1804/x86_64/libcudnn7-dev_7.6.5.32-1+cuda10.1_amd64.deb\n",
        "!dpkg -i \\\n",
        "      libcudnn7_7.6.5.32-1+cuda10.1_amd64.deb \\\n",
        "      libcudnn7-dev_7.6.5.32-1+cuda10.1_amd64.deb"
      ],
      "metadata": {
        "id": "T3vPc9KfF4JJ"
      },
      "execution_count": null,
      "outputs": []
    },
    {
      "cell_type": "markdown",
      "metadata": {
        "id": "liQZb4cDmZgy"
      },
      "source": [
        "# TensorFlowのインストール\n",
        "\n",
        "TensorFlowのversionは、DonkeyCarのRaspberryPi3にはいっているバージョンと同じバージョンをインストールします。\\\n",
        "Google Colabはデフォルトのtensorflow/cuda/pipパッケージバージョンが更新されていきます。  \\\n",
        "Tensorflowは下位互換性を維持しないため、ColabにはRaspberry Pi版DonkeyCar標準のTensorFlow 2.2.0と同じバージョンのTensorflowを入れます。\n",
        "\n",
        "Google Colabは古いTensorflowをサポートしなくなったため、pipで探すことができなくなりました。  \\\n",
        "そのため、Minicondaを利用してTensorflow 2.2.0をインストールします。"
      ]
    },
    {
      "cell_type": "code",
      "source": [
        "%%bash\n",
        "\n",
        "MINICONDA_INSTALLER_SCRIPT=Miniconda3-4.5.4-Linux-x86_64.sh\n",
        "MINICONDA_PREFIX=/usr/local\n",
        "wget https://repo.continuum.io/miniconda/$MINICONDA_INSTALLER_SCRIPT\n",
        "chmod +x $MINICONDA_INSTALLER_SCRIPT\n",
        "./$MINICONDA_INSTALLER_SCRIPT -b -f -p $MINICONDA_PREFIX"
      ],
      "metadata": {
        "id": "kldv1Xu713qz"
      },
      "execution_count": null,
      "outputs": []
    },
    {
      "cell_type": "code",
      "source": [
        "import sys\n",
        "_ = (sys.path.append(\"/usr/local/lib/python3.6/site-packages\"))\n",
        "!pip install -U pip\n",
        "!pip uninstall -y tensorflow\n",
        "!pip install tensorflow-gpu==2.2.0 h5py==2.10.0 protobuf==3.19.6 numpy==1.19.5 pillow==8.4.0 cycler==0.11.0 decorator==4.4.2 python-dateutil==2.8.2 wcwidth==0.2.6 pandas==1.1.5 opencv-python==4.2.0.34"
      ],
      "metadata": {
        "id": "EIoo25Yi19px"
      },
      "execution_count": null,
      "outputs": []
    },
    {
      "cell_type": "markdown",
      "source": [
        "**RESTART RUNTIME**を1度実行してください。  \\\n",
        "リスタート後もインストールしたTensorflow 2.2.0がキープされます。 \\\n",
        "リスタート後はこの次から開始できます。"
      ],
      "metadata": {
        "id": "I4b0b7znmGAc"
      }
    },
    {
      "cell_type": "markdown",
      "source": [
        "# RESTART後にPython PATHの再追加"
      ],
      "metadata": {
        "id": "kebWST3y8nZP"
      }
    },
    {
      "cell_type": "code",
      "source": [
        "import sys\n",
        "_ = (sys.path.append(\"/usr/local/lib/python3.6/site-packages\"))"
      ],
      "metadata": {
        "id": "aND7FS2C8zkZ"
      },
      "execution_count": null,
      "outputs": []
    },
    {
      "cell_type": "markdown",
      "metadata": {
        "id": "G7OYRZhiBisA"
      },
      "source": [
        "# TensorFlowのバージョン確認"
      ]
    },
    {
      "cell_type": "code",
      "metadata": {
        "id": "1lNo7WukBc-Y"
      },
      "source": [
        "!pip freeze | grep -i -e tensorflow"
      ],
      "execution_count": null,
      "outputs": []
    },
    {
      "cell_type": "code",
      "source": [
        "!python -c \"import warnings;warnings.simplefilter(action='ignore', category=FutureWarning);import tensorflow as tf; print(tf.__version__)\""
      ],
      "metadata": {
        "id": "TCMkn16iERjG"
      },
      "execution_count": null,
      "outputs": []
    },
    {
      "cell_type": "markdown",
      "metadata": {
        "id": "Ba2oPDIrsDFg"
      },
      "source": [
        "# DonkeyCarのインストール\n",
        "Raspberry PiにインストールしてあるDonkeyCarとバージョンを合わせておきます。"
      ]
    },
    {
      "cell_type": "code",
      "source": [
        "# DonkeyCarがimageioが見つからない場合に自動インストールするimageioのバージョンは、2023/03/02時点で最新の2.16.0です。これはnumpy1.20.0以上を必要とします。\n",
        "# 2023/03/02時点ではgoogle colabで使えるnumpyは1.19.5までなので、imageioのバージョンを指定してインストールします。\n",
        "!pip install imageio==2.15.0"
      ],
      "metadata": {
        "id": "FeMS6FGzFrze"
      },
      "execution_count": null,
      "outputs": []
    },
    {
      "cell_type": "code",
      "metadata": {
        "id": "oOxd9PFUyNxI"
      },
      "source": [
        "!git clone -b release_4_4 https://github.com/autorope/donkeycar.git\n",
        "%cd donkeycar\n",
        "!sed -i '/imgaug/d' setup.py\n",
        "!sed -i '/pillow/d' setup.py\n",
        "!pip install -e ."
      ],
      "execution_count": null,
      "outputs": []
    },
    {
      "cell_type": "code",
      "source": [
        "import sys\n",
        "_ = (sys.path.append(\"/usr/local/lib/python3.6/site-packages\"))"
      ],
      "metadata": {
        "id": "TwLBS9STMtmM"
      },
      "execution_count": null,
      "outputs": []
    },
    {
      "cell_type": "markdown",
      "metadata": {
        "id": "syCctLq2r4Wk"
      },
      "source": [
        "# DonkeyCarのProjectを作成"
      ]
    },
    {
      "cell_type": "code",
      "metadata": {
        "id": "8MCHlAop6mES"
      },
      "source": [
        "!donkey createcar --path /content/mycar"
      ],
      "execution_count": null,
      "outputs": []
    },
    {
      "cell_type": "markdown",
      "metadata": {
        "id": "dnUy1Z1zro77"
      },
      "source": [
        "# data.zipのアップロードとデータの解凍\n",
        "data.zip（DonkeyCarで集めた学習用データ）をアップロードします。\\\n",
        "ブラウザ経由でcolabにdata.zipをアップロードする方法と、\\\n",
        "Google Drive経由でcolabにdata.zipをアップロードする方法の2通りあります。\\\n",
        "ブラウザ経由の方法で通信速度が遅すぎる場合はGoogle Drive経由の方法を試してみてください。"
      ]
    },
    {
      "cell_type": "markdown",
      "source": [
        "# ブラウザ経由でdata.zipをアップロードする場合\n",
        "data.zip（DonkeyCarで集めた学習用データ）をアップロードします。  \n",
        "下記コードを実行すると、ファイルのアップロード フォームが出現します。\n",
        "\n",
        "ファイルは`/content/mycar/`以下に送信され、data.zipの解凍を行っています。\\\n",
        "データセットのディレクトリ構造は、`/content/mycar/data/tub_1_xxxx`のようになります。"
      ],
      "metadata": {
        "id": "RKSzhf8NnFQM"
      }
    },
    {
      "cell_type": "code",
      "metadata": {
        "id": "nqB_I9dsxBoA"
      },
      "source": [
        "%cd /content/mycar/\n",
        "\n",
        "import os\n",
        "import shutil\n",
        "from google.colab import files\n",
        "\n",
        "if(os.path.exists(\"/content/mycar/data.zip\")):\n",
        "   os.remove(\"/content/mycar/data.zip\")\n",
        "if(os.path.exists(\"/content/mycar/data\")):\n",
        "   shutil.rmtree(\"/content/mycar/data\")\n",
        "\n",
        "uploaded = files.upload()\n",
        "file_name = list(uploaded.keys())[0]\n",
        "file_path = \"/content/mycar/\" + file_name\n",
        "print(\"-----------------------------------------------------\")\n",
        "print(\"【処理結果】%sにデータをアップロードしました。\" % file_path)\n",
        "print(\"-----------------------------------------------------\")\n",
        "!unzip -o data.zip"
      ],
      "execution_count": null,
      "outputs": []
    },
    {
      "cell_type": "markdown",
      "metadata": {
        "id": "maQOc8foxCTN"
      },
      "source": [
        "# Google Drive経由でdata.zipをアップロードする場合\n",
        "ブラウザ経由でデータをアップロードすると、とても遅いため、Google Drive経由でアップロードを早く完了させたい場合に使います。  \n",
        "下記コードを実行して認証をおこなうことで、Google Driveにアップロードした自分のdata.zipファイルをGoogle Colabで利用できるようになります。"
      ]
    },
    {
      "cell_type": "code",
      "metadata": {
        "id": "T-_XCjfFxtPf"
      },
      "source": [
        "from google.colab import drive\n",
        "drive.mount('/content/drive')\n",
        "!ls '/content/drive/My Drive' | grep data"
      ],
      "execution_count": null,
      "outputs": []
    },
    {
      "cell_type": "markdown",
      "metadata": {
        "id": "K8pcQf39l6ec"
      },
      "source": [
        "Google Driveは、/content/drive/MyDriveにマウントされます。\n",
        "\n",
        "data.zipファイルを/content/mycar/以下にコピーして、解凍をおこないます。\n",
        "\n",
        "Google Driveの任意のフォルダにアップロードした場合は、'/content/drive/MyDrive/任意のフォルダ名/data.zip' のように置き換えてください。"
      ]
    },
    {
      "cell_type": "code",
      "metadata": {
        "id": "Q9SoZkGCxwUE"
      },
      "source": [
        "%cd /content/mycar/\n",
        "\n",
        "import os\n",
        "import shutil\n",
        "\n",
        "if(os.path.exists(\"/content/mycar/data.zip\")):\n",
        "   os.remove(\"/content/mycar/data.zip\")\n",
        "if(os.path.exists(\"/content/mycar/data\")):\n",
        "   shutil.rmtree(\"/content/mycar/data\")\n",
        "\n",
        "!ls -l '/content/drive/MyDrive/data.zip'\n",
        "!cp '/content/drive/MyDrive/data.zip' /content/mycar/data.zip\n",
        "!unzip data.zip"
      ],
      "execution_count": null,
      "outputs": []
    },
    {
      "cell_type": "markdown",
      "source": [],
      "metadata": {
        "id": "ppQHPgZ6RBI3"
      }
    },
    {
      "cell_type": "markdown",
      "metadata": {
        "id": "e-4fu_vD1j25"
      },
      "source": [
        "#学習の開始\n",
        "\n",
        "Colabの環境構築が出来たので、DonkeyCarの学習を行います。\n",
        "<br>\n",
        "<br>\n",
        "学習の対象は、/content/mycar/data/に存在するフォルダ全部になります。  \n",
        "学習時のtypeはlinearですが、学習が完了すると、mypilot.h5の他にmypilot.tfliteが作成されます。  "
      ]
    },
    {
      "cell_type": "code",
      "metadata": {
        "id": "K747mFXW1e7H"
      },
      "source": [
        "import os\n",
        "os.environ['LD_LIBRARY_PATH']='/usr/lib64-nvidia:/usr/local/cuda-10.2/targets/x86_64-linux/lib'\n",
        "\n",
        "type = \"linear\"\n",
        "trained_mode = \"/content/mycar/models/mypilot.h5\"\n",
        "\n",
        "%cd /content/mycar\n",
        "!python train.py --tub=data --model={trained_mode} --type={type}"
      ],
      "execution_count": null,
      "outputs": []
    },
    {
      "cell_type": "markdown",
      "metadata": {
        "id": "pZVvR7JXaMcd"
      },
      "source": [
        "# 学習結果の確認\n",
        "DonkeyCarは学習済みモデルを解析して動画に出力する機能があります。\n",
        "\n",
        "学習したモデルがどのようになったのかを確認します。\n",
        "\n",
        "モデル毎にレイヤーが全く異なるため、makemovieを使えるモデルはlinearモデルのみです。  "
      ]
    },
    {
      "cell_type": "markdown",
      "metadata": {
        "id": "pBDeOcVyaRlX"
      },
      "source": [
        "### モデル可視化用パッケージをインストール"
      ]
    },
    {
      "cell_type": "code",
      "metadata": {
        "id": "M2Af9pMDaYe7"
      },
      "source": [
        "!pip install moviepy==1.0.3 matplotlib==3.3.4\n",
        "!pip install git+https://github.com/autorope/keras-vis.git"
      ],
      "execution_count": null,
      "outputs": []
    },
    {
      "cell_type": "markdown",
      "metadata": {
        "id": "y3IVmrgOaaen"
      },
      "source": [
        "### 動画ファイルの作成\n"
      ]
    },
    {
      "cell_type": "code",
      "metadata": {
        "id": "craA2Lffap0F"
      },
      "source": [
        "!ls /content/mycar/data"
      ],
      "execution_count": null,
      "outputs": []
    },
    {
      "cell_type": "code",
      "metadata": {
        "id": "wxbuiLzcafeU"
      },
      "source": [
        "%cd /content/mycar\n",
        "mp4_path = 'tub_movie.mp4'\n",
        "!donkey makemovie --tub=data --model models/mypilot.h5 --type linear --salient --out=$mp4_path"
      ],
      "execution_count": null,
      "outputs": []
    },
    {
      "cell_type": "markdown",
      "metadata": {
        "id": "64udf_29b2VF"
      },
      "source": [
        "### 動画のダウンロード\n",
        "作成した解析動画をPCにダウンロードします。\\\n",
        "ダウンロードした動画をPCで再生すると、モデルがどこに反応しているのか確認することができます。\\\n",
        "緑色の線：人の操作。青色の線：AIの判断。"
      ]
    },
    {
      "cell_type": "code",
      "metadata": {
        "id": "-p4qAbqzbz5h"
      },
      "source": [
        "from google.colab import files\n",
        "\n",
        "files.download('/content/mycar/'+mp4_path)"
      ],
      "execution_count": null,
      "outputs": []
    },
    {
      "cell_type": "markdown",
      "metadata": {
        "id": "iWtc6q3LPHqP"
      },
      "source": [
        "# 学習結果の転送\n",
        "学習結果は、/content/mycar/models/mypilot.tfliteに保存されます。  下記セルを実行し、tfliteファイルをダウンロードします。\n",
        "\n",
        "RaspberryPiの~/mycar/models/mypilot.tfliteに学習結果をコピーすることで、DonkeyCarの自動走行ができるようになります。"
      ]
    },
    {
      "cell_type": "code",
      "metadata": {
        "id": "SmI6Vv0gEiZF"
      },
      "source": [
        "from google.colab import files\n",
        "\n",
        "files.download('/content/mycar/models/mypilot.tflite')"
      ],
      "execution_count": null,
      "outputs": []
    },
    {
      "cell_type": "markdown",
      "source": [
        "# その他：ブラウザ上で動画を再生する\n",
        "OpenCVで出力したmp4ファイルはここでは再生できないため、webmに変換してから再生します。  \\\n",
        "このffmpegを使った変換はかなり時間がかかります。\n"
      ],
      "metadata": {
        "id": "b1F6jDZUoFds"
      }
    },
    {
      "cell_type": "code",
      "source": [
        "webm_path = 'tub_movie.webm'\n",
        "!ffmpeg -i $mp4_path -vcodec vp9 $webm_path -y -loglevel quiet"
      ],
      "metadata": {
        "id": "wVfylyv7oRWc"
      },
      "execution_count": null,
      "outputs": []
    },
    {
      "cell_type": "code",
      "source": [
        "import io\n",
        "import base64\n",
        "from IPython.display import HTML\n",
        "\n",
        "def play_movie(webm_path):\n",
        "  video = io.open(webm_path, 'r+b').read()\n",
        "  encoded = base64.b64encode(video)\n",
        "  return HTML(data='''<video alt=\"test\" controls>\n",
        "                      <source src=\"data:video/webm;base64,{0}\" type=\"video/webm\" />\n",
        "                      </video>'''.format(encoded.decode('ascii')))"
      ],
      "metadata": {
        "id": "q3soLDXNoSKv"
      },
      "execution_count": null,
      "outputs": []
    },
    {
      "cell_type": "code",
      "source": [
        "play_movie(webm_path)"
      ],
      "metadata": {
        "id": "huf2sVfOoWsT"
      },
      "execution_count": null,
      "outputs": []
    }
  ]
}